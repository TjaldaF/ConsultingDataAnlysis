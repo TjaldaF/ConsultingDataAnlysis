{
 "cells": [
  {
   "cell_type": "code",
   "execution_count": 2,
   "id": "29104e8c-4add-4e85-bef2-56ca1957c101",
   "metadata": {
    "tags": []
   },
   "outputs": [],
   "source": [
    "import pandas as pd\n",
    "import csv\n",
    "import numpy as np\n",
    "from scipy import ndimage\n",
    "from numpy import asarray\n",
    "from sklearn.linear_model import LinearRegression\n",
    "import matplotlib.pyplot as plt\n",
    "from mpl_toolkits import mplot3d\n",
    "import pyabf\n",
    "from datetime import timedelta\n",
    "import cv2\n",
    "import os\n",
    "from PIL import Image\n",
    "from matplotlib import pyplot as plt\n",
    "from matplotlib import image as mpimg\n",
    "from neo.io import AxonIO\n",
    "from matplotlib.gridspec import GridSpec\n",
    "import urllib\n",
    "import neo"
   ]
  },
  {
   "cell_type": "code",
   "execution_count": 3,
   "id": "31c14c6e",
   "metadata": {},
   "outputs": [],
   "source": [
    "def DataFrameNameToString(df):\n",
    "    # Get the variable name of the DataFrame as a string\n",
    "    for name, var in globals().items():\n",
    "        if var is df:\n",
    "            return name"
   ]
  },
  {
   "cell_type": "code",
   "execution_count": 4,
   "id": "733d3e64-1e68-47ee-b2fd-da298bc42db1",
   "metadata": {
    "tags": []
   },
   "outputs": [],
   "source": [
    "def ABFreader(filelocation): # this function will transform ABF files into dataframes\n",
    "    # Open the ABF file using AxonIO from the neo package\n",
    "    fh = AxonIO(filename=filelocation)\n",
    "    \n",
    "    # Read the segments from the file\n",
    "    segments = fh.read_block().segments\n",
    "    \n",
    "    # Extract the analog signals from the first segment\n",
    "    analog_signals_ls = segments[0].analogsignals\n",
    "    \n",
    "    # Create an empty DataFrame to store the ABF data\n",
    "    df = pd.DataFrame()\n",
    "    \n",
    "    # Create an empty list to store the time values\n",
    "    list=[]\n",
    "    \n",
    "    # Initialize a time counter\n",
    "    tc=0\n",
    "    \n",
    "    # Read a single segment from the file\n",
    "    seg = fh.read_segment()\n",
    "    \n",
    "    # Loop to populate the time list\n",
    "    while tc < len(seg.analogsignals[0]):\n",
    "        list.append(tc)\n",
    "        tc=tc+1\n",
    "        \n",
    "    # Create a DataFrame from the time list\n",
    "    df = pd.DataFrame (list, columns = ['trash'])\n",
    "    \n",
    "    # Add columns to the DataFrame using the analog signals\n",
    "    df['Vm_prime'] = analog_signals_ls[0]\n",
    "    df['Im_sec'] = analog_signals_ls[1]\n",
    "    \n",
    "    # Split the third analog signal into two channels\n",
    "    channel_splitter=np.split(analog_signals_ls[2], 3, axis=1) #if you added more channels to clampex zou have to change it here \n",
    "    \n",
    "    # Add the two channels to the DataFrame as separate columns\n",
    "    df['led'] =  channel_splitter[0][:]\n",
    "    df['Photodiod'] =  channel_splitter[1][:]\n",
    "    df['Arduino'] =  channel_splitter[2][:]\n",
    "    \n",
    "    # Drop the 'trash' column from the DataFrame\n",
    "    df=df.drop(columns=[\"trash\"])\n",
    "    return df"
   ]
  },
  {
   "cell_type": "markdown",
   "id": "42cda404",
   "metadata": {},
   "source": [
    "# File paths"
   ]
  },
  {
   "cell_type": "code",
   "execution_count": 5,
   "id": "d5240f14",
   "metadata": {},
   "outputs": [],
   "source": [
    "file_path_1=r\"D:\\230919_firstRecordingsinFlight\\5attempt\\rec2\\2023_09_19_0005.abf\"\n",
    "file_path_2=r\"D:\\230923_Patch\\2ndPrep\\1strecording\\2023_09_22_0000.abf\"\n",
    "file_path_3=r\"D:\\230923_Patch\\3rprep\\2ndattempt\\2ndrecording\\2023_09_22_0003.abf\"\n",
    "file_path_4=r\"D:\\231011_Patch\\311\\2023_10_11_0000.abf\""
   ]
  },
  {
   "cell_type": "code",
   "execution_count": 6,
   "id": "a3e9e9ff",
   "metadata": {},
   "outputs": [],
   "source": [
    "filepath = [file_path_1, file_path_2, file_path_3, file_path_4]"
   ]
  },
  {
   "cell_type": "code",
   "execution_count": 7,
   "id": "f1b455fa",
   "metadata": {},
   "outputs": [],
   "source": [
    "df_abf_1=ABFreader(file_path_1)\n",
    "df_abf_2=ABFreader(file_path_2)\n"
   ]
  },
  {
   "cell_type": "code",
   "execution_count": 8,
   "id": "a578c22d",
   "metadata": {},
   "outputs": [],
   "source": [
    "df_abf_3=ABFreader(file_path_3)"
   ]
  },
  {
   "cell_type": "code",
   "execution_count": 9,
   "id": "76b88263",
   "metadata": {},
   "outputs": [],
   "source": [
    "def ABFreader(filelocation): # this function will transform ABF files into dataframes\n",
    "    # Open the ABF file using AxonIO from the neo package\n",
    "    fh = AxonIO(filename=filelocation)\n",
    "    \n",
    "    # Read the segments from the file\n",
    "    segments = fh.read_block().segments\n",
    "    \n",
    "    # Extract the analog signals from the first segment\n",
    "    analog_signals_ls = segments[0].analogsignals\n",
    "    \n",
    "    # Create an empty DataFrame to store the ABF data\n",
    "    df = pd.DataFrame()\n",
    "    \n",
    "    # Create an empty list to store the time values\n",
    "    list=[]\n",
    "    \n",
    "    # Initialize a time counter\n",
    "    tc=0\n",
    "    \n",
    "    # Read a single segment from the file\n",
    "    seg = fh.read_segment()\n",
    "    \n",
    "    # Loop to populate the time list\n",
    "    while tc < len(seg.analogsignals[0]):\n",
    "        list.append(tc)\n",
    "        tc=tc+1\n",
    "        \n",
    "    # Create a DataFrame from the time list\n",
    "    df = pd.DataFrame (list, columns = ['trash'])\n",
    "    \n",
    "    # Add columns to the DataFrame using the analog signals\n",
    "    df['Vm_prime'] = analog_signals_ls[0]\n",
    "    df['Im_sec'] = analog_signals_ls[1]\n",
    "    df['Photodiod'] = analog_signals_ls[3]\n",
    "    \n",
    "    # Split the third analog signal into two channels\n",
    "    channel_splitter=np.split(analog_signals_ls[2], 4, axis=1) #if you added more channels to clampex zou have to change it here \n",
    "    \n",
    "    # Add the two channels to the DataFrame as separate columns\n",
    "    df['Trigger'] =  channel_splitter[0][:]\n",
    "    df['AirPuff'] =  channel_splitter[1][:]\n",
    "    df['TrigWings '] =  channel_splitter[2][:]\n",
    "    df['TrigEyes'] =  channel_splitter[3][:]\n",
    "    \n",
    "\n",
    "    \n",
    "    \n",
    "    # Drop the 'trash' column from the DataFrame\n",
    "    df=df.drop(columns=[\"trash\"])\n",
    "    return df"
   ]
  },
  {
   "cell_type": "code",
   "execution_count": 10,
   "id": "f85cc05d",
   "metadata": {},
   "outputs": [],
   "source": [
    "df_abf_4=ABFreader(file_path_4)"
   ]
  },
  {
   "cell_type": "markdown",
   "id": "6209bab3-beb9-492f-ad5a-214bcd3f2be2",
   "metadata": {},
   "source": [
    "# Add a time column"
   ]
  },
  {
   "cell_type": "code",
   "execution_count": 11,
   "id": "78cb3cdd",
   "metadata": {},
   "outputs": [],
   "source": [
    "dataframes = [df_abf_1, df_abf_2, df_abf_3, df_abf_4]"
   ]
  },
  {
   "cell_type": "code",
   "execution_count": 12,
   "id": "81a0a75c",
   "metadata": {},
   "outputs": [],
   "source": [
    "def add_time_abf(df, sampling_rate=10000.0):\n",
    "    time_seconds = pd.Series(range(len(df_abf_1))) / sampling_rate\n",
    "    time_milliseconds = time_seconds * 1000.0\n",
    "    df['time_sec'] = time_seconds\n",
    "    df['time_millisec'] = time_milliseconds\n",
    "    "
   ]
  },
  {
   "cell_type": "code",
   "execution_count": 13,
   "id": "b4f7f9a9-da37-4b84-a5c3-22378740812b",
   "metadata": {
    "tags": []
   },
   "outputs": [],
   "source": [
    "for df in dataframes:\n",
    "    add_time_abf(df)\n",
    "\n"
   ]
  },
  {
   "cell_type": "markdown",
   "id": "ba717c64",
   "metadata": {},
   "source": [
    "# Substract junction potential"
   ]
  },
  {
   "cell_type": "code",
   "execution_count": 14,
   "id": "262cc0ff",
   "metadata": {},
   "outputs": [],
   "source": [
    "def SubstractJunctionPotential(df):\n",
    "    df['Vm_corrected']=df['Vm_prime'] - 13"
   ]
  },
  {
   "cell_type": "code",
   "execution_count": 15,
   "id": "34edc2ca",
   "metadata": {},
   "outputs": [],
   "source": [
    "for df in dataframes:\n",
    "    SubstractJunctionPotential(df)"
   ]
  },
  {
   "cell_type": "markdown",
   "id": "703a34f8",
   "metadata": {},
   "source": [
    "# Find threshold for ABF files"
   ]
  },
  {
   "cell_type": "code",
   "execution_count": 16,
   "id": "62e59645",
   "metadata": {},
   "outputs": [],
   "source": [
    "def find_first_frame_abf(df, column_name, x_axis_name = 'time_millisec' , adjustment=0, threshold_multiplier=6) :\n",
    "    median_intensity = np.nanmedian(df[column_name])\n",
    "    q1 = np.nanpercentile(df[column_name], 25)\n",
    "    q3 = np.nanpercentile(df[column_name], 75)\n",
    "    iqr_value = q3 - q1\n",
    "    thresh_intensity = median_intensity - threshold_multiplier * iqr_value\n",
    "    thresh_intensity = thresh_intensity-adjustment  # for noisy recordings\n",
    "\n",
    "    plt.plot(df[column_name])\n",
    "    plt.axhline(y=thresh_intensity, color='r')\n",
    "    plt.show()\n",
    "\n",
    "    first_frame_number = np.where(df[column_name] < thresh_intensity)[0][0]\n",
    "\n",
    "    plt.plot(df[column_name][first_frame_number - 2:first_frame_number + 2])\n",
    "    plt.axhline(y=thresh_intensity, color='r')\n",
    "    plt.show()\n",
    "\n",
    "    return first_frame_number"
   ]
  },
  {
   "cell_type": "code",
   "execution_count": 17,
   "id": "8dee4d72",
   "metadata": {
    "scrolled": true
   },
   "outputs": [
    {
     "data": {
      "image/png": "[encoded data removed]",
      "text/plain": [
       "<Figure size 640x480 with 1 Axes>"
      ]
     },
     "metadata": {},
     "output_type": "display_data"
    },
    {
     "data": {
      "image/png": "[encoded data removed]",
      "text/plain": [
       "<Figure size 640x480 with 1 Axes>"
      ]
     },
     "metadata": {},
     "output_type": "display_data"
    },
    {
     "data": {
      "image/png": "[encoded data removed]",
      "text/plain": [
       "<Figure size 640x480 with 1 Axes>"
      ]
     },
     "metadata": {},
     "output_type": "display_data"
    },
    {
     "data": {
      "image/png": "[encoded data removed]",
      "text/plain": [
       "<Figure size 640x480 with 1 Axes>"
      ]
     },
     "metadata": {},
     "output_type": "display_data"
    },
    {
     "data": {
      "image/png": "[encoded data removed]",
      "text/plain": [
       "<Figure size 640x480 with 1 Axes>"
      ]
     },
     "metadata": {},
     "output_type": "display_data"
    },
    {
     "data": {
      "image/png": "[encoded data removed]",
      "text/plain": [
       "<Figure size 640x480 with 1 Axes>"
      ]
     },
     "metadata": {},
     "output_type": "display_data"
    }
   ],
   "source": [
    "first_frame_df_abf_1=find_first_frame_abf(df_abf_1,'led',threshold_multiplier=8)\n",
    "first_frame_df_abf_3=find_first_frame_abf(df_abf_3,'led',threshold_multiplier=8)\n",
    "first_frame_df_abf_4=find_first_frame_abf(df_abf_4,'Trigger',threshold_multiplier=8)"
   ]
  },
  {
   "cell_type": "code",
   "execution_count": 18,
   "id": "0511ac88",
   "metadata": {},
   "outputs": [],
   "source": [
    "df_abf_1['time_milliseconds_zero'] = (df_abf_1.index - first_frame_df_abf_1) / 10  # Assuming 10 Hz sampling rate, adjust as needed\n",
    "df_abf_3['time_milliseconds_zero'] = (df_abf_3.index - first_frame_df_abf_3) / 10  # Assuming 10 Hz sampling rate, adjust as needed\n",
    "df_abf_4['time_milliseconds_zero'] = (df_abf_4.index - first_frame_df_abf_4) / 10  # Assuming 10 Hz sampling rate, adjust as needed"
   ]
  },
  {
   "cell_type": "markdown",
   "id": "d01f1529-0d7e-4f21-889d-e170cd92de98",
   "metadata": {
    "tags": []
   },
   "source": [
    "# save df at .csv"
   ]
  },
  {
   "cell_type": "code",
   "execution_count": 19,
   "id": "4a32f02f",
   "metadata": {},
   "outputs": [],
   "source": [
    "def save_dataframe_to_csv(dataframe, file_path):\n",
    "    dataframe.to_csv(file_path, index=False)\n",
    "\n"
   ]
  },
  {
   "cell_type": "code",
   "execution_count": 20,
   "id": "3bce67d3",
   "metadata": {},
   "outputs": [],
   "source": [
    "save_dataframe_to_csv(df_abf_1, r'D:\\230919_firstRecordingsinFlight\\5attempt\\rec2\\df_abf_1.csv')\n",
    "save_dataframe_to_csv(df_abf_2, r'D:\\230923_Patch\\2ndPrep\\1strecording\\df_abf_2.csv')\n",
    "save_dataframe_to_csv(df_abf_3, r'D:\\230923_Patch\\3rprep\\2ndattempt\\2ndrecording\\df_abf_3.csv')\n",
    "save_dataframe_to_csv(df_abf_4, r'D:\\231011_Patch\\311\\df_abf_4.csv')\n"
   ]
  },
  {
   "cell_type": "code",
   "execution_count": 21,
   "id": "133612ad",
   "metadata": {
    "scrolled": true
   },
   "outputs": [
    {
     "data": {
      "text/html": [
       "<div>\n",
       "<style scoped>\n",
       "    .dataframe tbody tr th:only-of-type {\n",
       "        vertical-align: middle;\n",
       "    }\n",
       "\n",
       "    .dataframe tbody tr th {\n",
       "        vertical-align: top;\n",
       "    }\n",
       "\n",
       "    .dataframe thead th {\n",
       "        text-align: right;\n",
       "    }\n",
       "</style>\n",
       "<table border=\"1\" class=\"dataframe\">\n",
       "  <thead>\n",
       "    <tr style=\"text-align: right;\">\n",
       "      <th></th>\n",
       "      <th>Vm_prime</th>\n",
       "      <th>Im_sec</th>\n",
       "      <th>led</th>\n",
       "      <th>Photodiod</th>\n",
       "      <th>Arduino</th>\n",
       "      <th>time_sec</th>\n",
       "      <th>time_millisec</th>\n",
       "      <th>Vm_corrected</th>\n",
       "      <th>time_milliseconds_zero</th>\n",
       "    </tr>\n",
       "  </thead>\n",
       "  <tbody>\n",
       "    <tr>\n",
       "      <th>0</th>\n",
       "      <td>-40.838623</td>\n",
       "      <td>-7.324218</td>\n",
       "      <td>4.966431</td>\n",
       "      <td>-0.058289</td>\n",
       "      <td>-0.211487</td>\n",
       "      <td>0.0000</td>\n",
       "      <td>0.0</td>\n",
       "      <td>-53.838623</td>\n",
       "      <td>-102738.8</td>\n",
       "    </tr>\n",
       "    <tr>\n",
       "      <th>1</th>\n",
       "      <td>-40.899658</td>\n",
       "      <td>-7.934570</td>\n",
       "      <td>4.956055</td>\n",
       "      <td>-0.057678</td>\n",
       "      <td>-0.211182</td>\n",
       "      <td>0.0001</td>\n",
       "      <td>0.1</td>\n",
       "      <td>-53.899658</td>\n",
       "      <td>-102738.7</td>\n",
       "    </tr>\n",
       "    <tr>\n",
       "      <th>2</th>\n",
       "      <td>-40.942383</td>\n",
       "      <td>-7.934570</td>\n",
       "      <td>4.956665</td>\n",
       "      <td>-0.057373</td>\n",
       "      <td>-0.212097</td>\n",
       "      <td>0.0002</td>\n",
       "      <td>0.2</td>\n",
       "      <td>-53.942383</td>\n",
       "      <td>-102738.6</td>\n",
       "    </tr>\n",
       "    <tr>\n",
       "      <th>3</th>\n",
       "      <td>-41.003418</td>\n",
       "      <td>-7.934570</td>\n",
       "      <td>4.967651</td>\n",
       "      <td>-0.057678</td>\n",
       "      <td>-0.212402</td>\n",
       "      <td>0.0003</td>\n",
       "      <td>0.3</td>\n",
       "      <td>-54.003418</td>\n",
       "      <td>-102738.5</td>\n",
       "    </tr>\n",
       "    <tr>\n",
       "      <th>4</th>\n",
       "      <td>-41.027832</td>\n",
       "      <td>-8.544922</td>\n",
       "      <td>4.960022</td>\n",
       "      <td>-0.057983</td>\n",
       "      <td>-0.211182</td>\n",
       "      <td>0.0004</td>\n",
       "      <td>0.4</td>\n",
       "      <td>-54.027832</td>\n",
       "      <td>-102738.4</td>\n",
       "    </tr>\n",
       "    <tr>\n",
       "      <th>...</th>\n",
       "      <td>...</td>\n",
       "      <td>...</td>\n",
       "      <td>...</td>\n",
       "      <td>...</td>\n",
       "      <td>...</td>\n",
       "      <td>...</td>\n",
       "      <td>...</td>\n",
       "      <td>...</td>\n",
       "      <td>...</td>\n",
       "    </tr>\n",
       "    <tr>\n",
       "      <th>5007355</th>\n",
       "      <td>-38.745117</td>\n",
       "      <td>-7.934570</td>\n",
       "      <td>4.966736</td>\n",
       "      <td>-0.057678</td>\n",
       "      <td>-0.212097</td>\n",
       "      <td>500.7355</td>\n",
       "      <td>500735.5</td>\n",
       "      <td>-51.745117</td>\n",
       "      <td>397996.7</td>\n",
       "    </tr>\n",
       "    <tr>\n",
       "      <th>5007356</th>\n",
       "      <td>-38.739014</td>\n",
       "      <td>-7.324218</td>\n",
       "      <td>4.963684</td>\n",
       "      <td>-0.057373</td>\n",
       "      <td>-0.212097</td>\n",
       "      <td>500.7356</td>\n",
       "      <td>500735.6</td>\n",
       "      <td>-51.739014</td>\n",
       "      <td>397996.8</td>\n",
       "    </tr>\n",
       "    <tr>\n",
       "      <th>5007357</th>\n",
       "      <td>-38.751221</td>\n",
       "      <td>-6.713867</td>\n",
       "      <td>4.952393</td>\n",
       "      <td>-0.057373</td>\n",
       "      <td>-0.213013</td>\n",
       "      <td>500.7357</td>\n",
       "      <td>500735.7</td>\n",
       "      <td>-51.751221</td>\n",
       "      <td>397996.9</td>\n",
       "    </tr>\n",
       "    <tr>\n",
       "      <th>5007358</th>\n",
       "      <td>-38.775635</td>\n",
       "      <td>-7.934570</td>\n",
       "      <td>4.961853</td>\n",
       "      <td>-0.057678</td>\n",
       "      <td>-0.212097</td>\n",
       "      <td>500.7358</td>\n",
       "      <td>500735.8</td>\n",
       "      <td>-51.775635</td>\n",
       "      <td>397997.0</td>\n",
       "    </tr>\n",
       "    <tr>\n",
       "      <th>5007359</th>\n",
       "      <td>-38.781738</td>\n",
       "      <td>-8.544922</td>\n",
       "      <td>4.965515</td>\n",
       "      <td>-0.057373</td>\n",
       "      <td>-0.211182</td>\n",
       "      <td>500.7359</td>\n",
       "      <td>500735.9</td>\n",
       "      <td>-51.781738</td>\n",
       "      <td>397997.1</td>\n",
       "    </tr>\n",
       "  </tbody>\n",
       "</table>\n",
       "<p>5007360 rows × 9 columns</p>\n",
       "</div>"
      ],
      "text/plain": [
       "          Vm_prime    Im_sec       led  Photodiod   Arduino  time_sec  \\\n",
       "0       -40.838623 -7.324218  4.966431  -0.058289 -0.211487    0.0000   \n",
       "1       -40.899658 -7.934570  4.956055  -0.057678 -0.211182    0.0001   \n",
       "2       -40.942383 -7.934570  4.956665  -0.057373 -0.212097    0.0002   \n",
       "3       -41.003418 -7.934570  4.967651  -0.057678 -0.212402    0.0003   \n",
       "4       -41.027832 -8.544922  4.960022  -0.057983 -0.211182    0.0004   \n",
       "...            ...       ...       ...        ...       ...       ...   \n",
       "5007355 -38.745117 -7.934570  4.966736  -0.057678 -0.212097  500.7355   \n",
       "5007356 -38.739014 -7.324218  4.963684  -0.057373 -0.212097  500.7356   \n",
       "5007357 -38.751221 -6.713867  4.952393  -0.057373 -0.213013  500.7357   \n",
       "5007358 -38.775635 -7.934570  4.961853  -0.057678 -0.212097  500.7358   \n",
       "5007359 -38.781738 -8.544922  4.965515  -0.057373 -0.211182  500.7359   \n",
       "\n",
       "         time_millisec  Vm_corrected  time_milliseconds_zero  \n",
       "0                  0.0    -53.838623               -102738.8  \n",
       "1                  0.1    -53.899658               -102738.7  \n",
       "2                  0.2    -53.942383               -102738.6  \n",
       "3                  0.3    -54.003418               -102738.5  \n",
       "4                  0.4    -54.027832               -102738.4  \n",
       "...                ...           ...                     ...  \n",
       "5007355       500735.5    -51.745117                397996.7  \n",
       "5007356       500735.6    -51.739014                397996.8  \n",
       "5007357       500735.7    -51.751221                397996.9  \n",
       "5007358       500735.8    -51.775635                397997.0  \n",
       "5007359       500735.9    -51.781738                397997.1  \n",
       "\n",
       "[5007360 rows x 9 columns]"
      ]
     },
     "execution_count": 21,
     "metadata": {},
     "output_type": "execute_result"
    }
   ],
   "source": [
    "df_abf_1"
   ]
  },
  {
   "cell_type": "code",
   "execution_count": 23,
   "id": "e3a0dc09",
   "metadata": {},
   "outputs": [
    {
     "name": "stdout",
     "output_type": "stream",
     "text": [
      "1027388 154447 60058\n"
     ]
    }
   ],
   "source": [
    "print(first_frame_df_abf_1, first_frame_df_abf_3, first_frame_df_abf_4)"
   ]
  }
 ],
 "metadata": {
  "kernelspec": {
   "display_name": "Python 3 (ipykernel)",
   "language": "python",
   "name": "python3"
  },
  "language_info": {
   "codemirror_mode": {
    "name": "ipython",
    "version": 3
   },
   "file_extension": ".py",
   "mimetype": "text/x-python",
   "name": "python",
   "nbconvert_exporter": "python",
   "pygments_lexer": "ipython3",
   "version": "3.11.5"
  },
  "toc": {
   "base_numbering": 1,
   "nav_menu": {
    "height": "133.99px",
    "width": "204.99px"
   },
   "number_sections": true,
   "sideBar": true,
   "skip_h1_title": false,
   "title_cell": "Table of Contents",
   "title_sidebar": "Contents",
   "toc_cell": false,
   "toc_position": {},
   "toc_section_display": true,
   "toc_window_display": false
  },
  "varInspector": {
   "cols": {
    "lenName": 16,
    "lenType": 16,
    "lenVar": 40
   },
   "kernels_config": {
    "python": {
     "delete_cmd_postfix": "",
     "delete_cmd_prefix": "del ",
     "library": "var_list.py",
     "varRefreshCmd": "print(var_dic_list())"
    },
    "r": {
     "delete_cmd_postfix": ") ",
     "delete_cmd_prefix": "rm(",
     "library": "var_list.r",
     "varRefreshCmd": "cat(var_dic_list()) "
    }
   },
   "oldHeight": 122.85466599999998,
   "position": {
    "height": "194.854px",
    "left": "926.667px",
    "right": "20px",
    "top": "121px",
    "width": "399.667px"
   },
   "types_to_exclude": [
    "module",
    "function",
    "builtin_function_or_method",
    "instance",
    "_Feature"
   ],
   "varInspector_section_display": "block",
   "window_display": false
  }
 },
 "nbformat": 4,
 "nbformat_minor": 5
}
